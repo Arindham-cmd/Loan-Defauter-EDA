{
 "cells": [
  {
   "cell_type": "code",
   "execution_count": null,
   "id": "1724b7cc",
   "metadata": {},
   "outputs": [],
   "source": [
    "import warnings\n",
    "warnings.filterwarnings(\"ignore\")"
   ]
  },
  {
   "cell_type": "code",
   "execution_count": null,
   "id": "7c879dec",
   "metadata": {},
   "outputs": [],
   "source": [
    "# let's start by importing the libraries\n",
    "import pandas as pd\n",
    "import numpy as np\n",
    "import matplotlib.pyplot as plt\n",
    "import seaborn as sns\n",
    "import plotly.express as px\n",
    "%matplotlib inline "
   ]
  },
  {
   "cell_type": "code",
   "execution_count": null,
   "id": "f1e735d9",
   "metadata": {},
   "outputs": [],
   "source": [
    "plt.style.use('ggplot')"
   ]
  },
  {
   "cell_type": "markdown",
   "id": "8cbd1f30",
   "metadata": {},
   "source": [
    "## Importing the Data"
   ]
  },
  {
   "cell_type": "code",
   "execution_count": null,
   "id": "d2cf552d",
   "metadata": {},
   "outputs": [],
   "source": [
    "application_df = pd.read_csv(r\"C:\\Users\\Arindham Krishna\\OneDrive\\Desktop\\Projects for Portfolio\\Exploratory Data Analysis\\Loan Applications Data\\application_data.csv\\application_data.csv\")\n",
    "prev_ap_df = pd.read_csv(r\"C:\\Users\\Arindham Krishna\\OneDrive\\Desktop\\Projects for Portfolio\\Exploratory Data Analysis\\Loan Applications Data\\previous_application.csv\\previous_application.csv\")"
   ]
  },
  {
   "cell_type": "code",
   "execution_count": null,
   "id": "40f7641c",
   "metadata": {},
   "outputs": [],
   "source": [
    "application_df.head()"
   ]
  },
  {
   "cell_type": "code",
   "execution_count": null,
   "id": "56e8c54c",
   "metadata": {},
   "outputs": [],
   "source": [
    "prev_ap_df.head()"
   ]
  },
  {
   "cell_type": "code",
   "execution_count": null,
   "id": "670cf177",
   "metadata": {},
   "outputs": [],
   "source": [
    "application_df.info(verbose=True)"
   ]
  },
  {
   "cell_type": "code",
   "execution_count": null,
   "id": "dc579962",
   "metadata": {},
   "outputs": [],
   "source": [
    "prev_ap_df.info()"
   ]
  },
  {
   "cell_type": "markdown",
   "id": "1803a508",
   "metadata": {},
   "source": [
    "We can see that when we use .info(), it will give us the detailed information about the dataset. \n",
    "For example, application_df.info() gives an output where we can see the number of records it contains and the number of features it has. \n",
    "Application data set has 307511 entries and 122 columns. Again, you can also check the amount of memory the dataset is cosuming. \n",
    "Application dataset is consuming 286.2+ MB and the same above line you can see data types and their counts. \n",
    "\n",
    "Same goes for the previous application dataset, prev_ap_df.info()"
   ]
  },
  {
   "cell_type": "code",
   "execution_count": null,
   "id": "1a696560",
   "metadata": {},
   "outputs": [],
   "source": [
    "# Another way to check the number of columns a dataset has, is to go ahead with the .shape command. \n",
    "print(\"shape of application dataset\",application_df.shape)\n",
    "print(\"shape of prev application dataset\",prev_ap_df.shape)"
   ]
  },
  {
   "cell_type": "markdown",
   "id": "cc1bdd6c",
   "metadata": {},
   "source": [
    "Now, as we know that we need to check the current defaulters from the loan application and also we need to analyse what are the chances that a prospective client might turn out to be a defaulter so that we can avoid the losses. \n",
    "\n",
    "Let's first look at how current defaulter to creditor count looks like from the application dataset. "
   ]
  },
  {
   "cell_type": "code",
   "execution_count": null,
   "id": "5da082c5",
   "metadata": {},
   "outputs": [],
   "source": [
    "plt.title(\"Payment Status of Current Application\")\n",
    "sns.countplot(application_df['TARGET'])\n",
    "plt.show()"
   ]
  },
  {
   "cell_type": "markdown",
   "id": "8a4f5a48",
   "metadata": {},
   "source": [
    "(1 = Defaulter, 0 = Creditor)From the above countplot, we can see that the defaulter count is comparitively very minimal to the creditors count. \n",
    "This defines that our dataset is an imbalaned data."
   ]
  },
  {
   "cell_type": "markdown",
   "id": "f7d99d75",
   "metadata": {},
   "source": [
    "## What is Imbalanced Data? "
   ]
  },
  {
   "cell_type": "markdown",
   "id": "a8d9dc0c",
   "metadata": {},
   "source": [
    "So, while doing any analysis or majorly to do any prediction we always have a target feature. Depending on that target feature we will be able to make the predictions. Now, lets say if the target feature is imbalanced like in this case then the algorithms or classifiers will only pick up the majority values and the minority values will be ignored. In our case, if we give the same data set to any classifier then there are chances that defaulters records will be ignored and only creditors records will be considered and doing so will give us inaccurate predictions. \n",
    "\n",
    "\n",
    "Another example other than this is if we consider disease prediction data and in there if 95 patiens are without disease and 5 are with disease then chances are more that the classifier will ignore the minority records. "
   ]
  },
  {
   "cell_type": "markdown",
   "id": "bf03611e",
   "metadata": {},
   "source": [
    "#### Checking the ratio"
   ]
  },
  {
   "cell_type": "code",
   "execution_count": null,
   "id": "cf5c7886",
   "metadata": {},
   "outputs": [],
   "source": [
    "creditor = application_df[application_df['TARGET']==0]\n",
    "defaulter = application_df[application_df[\"TARGET\"]==1]\n",
    "\n",
    "print(\"Number of Creditors\", creditor.shape[0])\n",
    "print(\"Number of Defaulters\", defaulter.shape[0])"
   ]
  },
  {
   "cell_type": "markdown",
   "id": "1b75d361",
   "metadata": {},
   "source": [
    "Here, we can see 282,686 (two hundred eighty thousand applications have paid their installments timely)\n",
    "24,825(twenty five thousand applications are defaulters)"
   ]
  },
  {
   "cell_type": "code",
   "execution_count": null,
   "id": "037112cb",
   "metadata": {},
   "outputs": [],
   "source": [
    "#Lets chcek the percentage of defaulters\n",
    "print(\"Percentage of defaulters:\", round(defaulter.shape[0]*100/(creditor.shape[0]+defaulter.shape[0]),2))"
   ]
  },
  {
   "cell_type": "markdown",
   "id": "58608077",
   "metadata": {},
   "source": [
    "Almost 8 percent of applications are into the defualters list. Rest 92 percent are creditors. \n",
    "\n",
    "Defaulter : Creditor = 8:92"
   ]
  },
  {
   "cell_type": "markdown",
   "id": "fb793842",
   "metadata": {},
   "source": [
    "#### Now lets start with our analysis and find out which clients can be a defaulter and which clients are good prospects and not to loose them by not providing loan.  \n",
    "\n",
    "Let's start with analysing all the features we have got. \n"
   ]
  },
  {
   "cell_type": "code",
   "execution_count": null,
   "id": "24e61a51",
   "metadata": {},
   "outputs": [],
   "source": [
    "#This will print out all the features, in list. We can also use just list(application_df.columns)\n",
    "print(list(application_df.columns))"
   ]
  },
  {
   "cell_type": "markdown",
   "id": "29fc8b52",
   "metadata": {},
   "source": [
    "### Incestigation 1: Documents and its Impact on Target"
   ]
  },
  {
   "cell_type": "code",
   "execution_count": null,
   "id": "ba4f92f1",
   "metadata": {},
   "outputs": [],
   "source": [
    "application_documents_df = application_df[['FLAG_DOCUMENT_2', 'FLAG_DOCUMENT_3', 'FLAG_DOCUMENT_4', 'FLAG_DOCUMENT_5', \n",
    "                                           'FLAG_DOCUMENT_6', 'FLAG_DOCUMENT_7', 'FLAG_DOCUMENT_8', 'FLAG_DOCUMENT_9', \n",
    "                                           'FLAG_DOCUMENT_10', 'FLAG_DOCUMENT_11', 'FLAG_DOCUMENT_12', 'FLAG_DOCUMENT_13',\n",
    "                                           'FLAG_DOCUMENT_14', 'FLAG_DOCUMENT_15', 'FLAG_DOCUMENT_16', 'FLAG_DOCUMENT_17', \n",
    "                                           'FLAG_DOCUMENT_18', 'FLAG_DOCUMENT_19', 'FLAG_DOCUMENT_20', 'FLAG_DOCUMENT_21',]]\n"
   ]
  },
  {
   "cell_type": "code",
   "execution_count": null,
   "id": "ac0bdf90",
   "metadata": {},
   "outputs": [],
   "source": [
    "application_documents_df.head()"
   ]
  },
  {
   "cell_type": "code",
   "execution_count": null,
   "id": "5396bc63",
   "metadata": {},
   "outputs": [],
   "source": [
    "plt.figure(figsize=(10,6))\n",
    "sns.displot(\n",
    "    data=application_documents_df.melt(value_name=\"Documents Submitted\"),\n",
    "    y=\"variable\",\n",
    "    hue=\"Documents Submitted\",\n",
    "    multiple=\"fill\",\n",
    "    aspect=1.25\n",
    ")\n",
    "plt.show()\n"
   ]
  },
  {
   "cell_type": "markdown",
   "id": "75487a98",
   "metadata": {},
   "source": [
    "(0 = Not Submitted, 1 = Submitted) From the above plot, can see that most of the applications have not submitted all the documents except the Document_3"
   ]
  },
  {
   "cell_type": "markdown",
   "id": "3115cad7",
   "metadata": {},
   "source": [
    "It's obvious that if these documents were not submitted then they will not make any imapct on our Target. \n",
    "\n",
    "However, we will check the correlation between document_3 and Target. "
   ]
  },
  {
   "cell_type": "markdown",
   "id": "0bf554af",
   "metadata": {},
   "source": [
    "### Correlation Matrix Between Document 3 and Target"
   ]
  },
  {
   "cell_type": "code",
   "execution_count": null,
   "id": "fb5a724d",
   "metadata": {},
   "outputs": [],
   "source": [
    "corr = application_df[[\"TARGET\",\"FLAG_DOCUMENT_3\"]].corr()\n",
    "corr.style.background_gradient(cmap='coolwarm')"
   ]
  },
  {
   "cell_type": "markdown",
   "id": "1be260f7",
   "metadata": {},
   "source": [
    "As we know the correlation values range between -1 to 1 and any values nearer or equal to -1 determines a negative correlation, any value nearer to 0 determines no correlation and any value near to 1 or equal to 1 determines that there is correlation. \n",
    "\n",
    "From the above matrix, we can see that the correlation values are nearer to 0  and hence document_3 submission does not impact the target value by any chance. We can also go ahead and drop document_3 feature along with other documents. "
   ]
  },
  {
   "cell_type": "markdown",
   "id": "967e73ab",
   "metadata": {},
   "source": [
    "## Investigation 2: Clients House Details vs Target "
   ]
  },
  {
   "cell_type": "markdown",
   "id": "ad18d7b2",
   "metadata": {},
   "source": [
    "Lets see if the information provided to us about the size and other details of clients stay has by any chance impact on the target columns. "
   ]
  },
  {
   "cell_type": "markdown",
   "id": "98b433bb",
   "metadata": {},
   "source": [
    "It's convenient to print .columns() as you can copy the column names easily. "
   ]
  },
  {
   "cell_type": "code",
   "execution_count": null,
   "id": "36cc5d21",
   "metadata": {},
   "outputs": [],
   "source": [
    "application_houseinfo_df = application_df[['APARTMENTS_AVG', 'BASEMENTAREA_AVG', 'YEARS_BEGINEXPLUATATION_AVG', \n",
    "                                           'YEARS_BUILD_AVG', 'COMMONAREA_AVG', 'ELEVATORS_AVG', 'ENTRANCES_AVG', \n",
    "                                           'FLOORSMAX_AVG', 'FLOORSMIN_AVG', 'LANDAREA_AVG', 'LIVINGAPARTMENTS_AVG', \n",
    "                                           'LIVINGAREA_AVG', 'NONLIVINGAPARTMENTS_AVG', 'NONLIVINGAREA_AVG', \n",
    "                                           'APARTMENTS_MODE', 'BASEMENTAREA_MODE', 'YEARS_BEGINEXPLUATATION_MODE', \n",
    "                                           'YEARS_BUILD_MODE', 'COMMONAREA_MODE', 'ELEVATORS_MODE', 'ENTRANCES_MODE', \n",
    "                                           'FLOORSMAX_MODE', 'FLOORSMIN_MODE', 'LANDAREA_MODE', 'LIVINGAPARTMENTS_MODE', \n",
    "                                           'LIVINGAREA_MODE', 'NONLIVINGAPARTMENTS_MODE', 'NONLIVINGAREA_MODE', \n",
    "                                           'APARTMENTS_MEDI', 'BASEMENTAREA_MEDI', 'YEARS_BEGINEXPLUATATION_MEDI', \n",
    "                                           'YEARS_BUILD_MEDI', 'COMMONAREA_MEDI', 'ELEVATORS_MEDI', 'ENTRANCES_MEDI', \n",
    "                                           'FLOORSMAX_MEDI', 'FLOORSMIN_MEDI', 'LANDAREA_MEDI', 'LIVINGAPARTMENTS_MEDI',\n",
    "                                           'LIVINGAREA_MEDI', 'NONLIVINGAPARTMENTS_MEDI', 'NONLIVINGAREA_MEDI', \n",
    "                                           'FONDKAPREMONT_MODE', 'HOUSETYPE_MODE', 'TOTALAREA_MODE', 'WALLSMATERIAL_MODE',\n",
    "                                           'EMERGENCYSTATE_MODE']]"
   ]
  },
  {
   "cell_type": "code",
   "execution_count": null,
   "id": "368b99c9",
   "metadata": {},
   "outputs": [],
   "source": [
    "application_houseinfo_df.head()"
   ]
  },
  {
   "cell_type": "markdown",
   "id": "ec7470a8",
   "metadata": {},
   "source": [
    "Looks like these features can contain null records, lets investigate for that. "
   ]
  },
  {
   "cell_type": "code",
   "execution_count": null,
   "id": "53b57a15",
   "metadata": {},
   "outputs": [],
   "source": [
    "print(application_houseinfo_df.isna().sum())\n",
    "#APARTMENTS_AVG has 156,061 missing records and on a glance, we can see that almost all these features has high missing values."
   ]
  },
  {
   "cell_type": "markdown",
   "id": "c858ef07",
   "metadata": {},
   "source": [
    "For more better understanding lets calculate missing values percentage in these particualr 47 columns. "
   ]
  },
  {
   "cell_type": "code",
   "execution_count": null,
   "id": "61cfe597",
   "metadata": {},
   "outputs": [],
   "source": [
    "# print(round((application_houseinfo_df.isnull().sum()*100/application_df.shape[0]),2))\n",
    "#At a glance looks like all columns have more than 45% of missing values. Let's sort them to get aware about the range. \n",
    "houseinfo_missingdata = round((application_houseinfo_df.isnull().sum()*100/application_df.shape[0]),2)\n",
    "print(houseinfo_missingdata.sort_values())\n",
    "\n",
    "#As said that after sorting we can figure the range and here we can see that (47-70%) of data is missing. \n",
    "#Hence, its wise to drop these records because we have records of around three hundred thousand and we will still be left be \n",
    "# fair amount of records to do the analysis. "
   ]
  },
  {
   "cell_type": "code",
   "execution_count": null,
   "id": "c8b6ec5a",
   "metadata": {},
   "outputs": [],
   "source": [
    "#Dropping the redundant features. \n",
    "application_df.drop(['APARTMENTS_AVG', 'BASEMENTAREA_AVG', 'YEARS_BEGINEXPLUATATION_AVG', \n",
    "                                           'YEARS_BUILD_AVG', 'COMMONAREA_AVG', 'ELEVATORS_AVG', 'ENTRANCES_AVG', \n",
    "                                           'FLOORSMAX_AVG', 'FLOORSMIN_AVG', 'LANDAREA_AVG', 'LIVINGAPARTMENTS_AVG', \n",
    "                                           'LIVINGAREA_AVG', 'NONLIVINGAPARTMENTS_AVG', 'NONLIVINGAREA_AVG', \n",
    "                                           'APARTMENTS_MODE', 'BASEMENTAREA_MODE', 'YEARS_BEGINEXPLUATATION_MODE', \n",
    "                                           'YEARS_BUILD_MODE', 'COMMONAREA_MODE', 'ELEVATORS_MODE', 'ENTRANCES_MODE', \n",
    "                                           'FLOORSMAX_MODE', 'FLOORSMIN_MODE', 'LANDAREA_MODE', 'LIVINGAPARTMENTS_MODE', \n",
    "                                           'LIVINGAREA_MODE', 'NONLIVINGAPARTMENTS_MODE', 'NONLIVINGAREA_MODE', \n",
    "                                           'APARTMENTS_MEDI', 'BASEMENTAREA_MEDI', 'YEARS_BEGINEXPLUATATION_MEDI', \n",
    "                                           'YEARS_BUILD_MEDI', 'COMMONAREA_MEDI', 'ELEVATORS_MEDI', 'ENTRANCES_MEDI', \n",
    "                                           'FLOORSMAX_MEDI', 'FLOORSMIN_MEDI', 'LANDAREA_MEDI', 'LIVINGAPARTMENTS_MEDI',\n",
    "                                           'LIVINGAREA_MEDI', 'NONLIVINGAPARTMENTS_MEDI', 'NONLIVINGAREA_MEDI', \n",
    "                                           'FONDKAPREMONT_MODE', 'HOUSETYPE_MODE', 'TOTALAREA_MODE', 'WALLSMATERIAL_MODE',\n",
    "                                           'EMERGENCYSTATE_MODE','FLAG_DOCUMENT_2', 'FLAG_DOCUMENT_3', 'FLAG_DOCUMENT_4', 'FLAG_DOCUMENT_5', \n",
    "                                           'FLAG_DOCUMENT_6', 'FLAG_DOCUMENT_7', 'FLAG_DOCUMENT_8', 'FLAG_DOCUMENT_9', \n",
    "                                           'FLAG_DOCUMENT_10', 'FLAG_DOCUMENT_11', 'FLAG_DOCUMENT_12', 'FLAG_DOCUMENT_13',\n",
    "                                           'FLAG_DOCUMENT_14', 'FLAG_DOCUMENT_15', 'FLAG_DOCUMENT_16', 'FLAG_DOCUMENT_17', \n",
    "                                           'FLAG_DOCUMENT_18', 'FLAG_DOCUMENT_19', 'FLAG_DOCUMENT_20', 'FLAG_DOCUMENT_21',], axis=1)"
   ]
  },
  {
   "cell_type": "markdown",
   "id": "fc03903b",
   "metadata": {},
   "source": [
    "The application data had 122 columns initially but after finding out no correlation of particular columns with target we have \n",
    "dropped them and now we are left with 307511 rows × 55 columns"
   ]
  },
  {
   "cell_type": "markdown",
   "id": "10f285bc",
   "metadata": {},
   "source": [
    "### House Type vs Target"
   ]
  },
  {
   "cell_type": "code",
   "execution_count": null,
   "id": "2d5cf785",
   "metadata": {},
   "outputs": [],
   "source": [
    "plt.figure()\n",
    "sns.countplot(application_df[\"NAME_HOUSING_TYPE\"], hue=application_df[\"TARGET\"])\n",
    "plt.xticks(rotation=90)\n",
    "plt.tight_layout()\n",
    "plt.title(\"Housing Type vs. Target\")\n",
    "plt.show()"
   ]
  },
  {
   "cell_type": "code",
   "execution_count": null,
   "id": "fae30784",
   "metadata": {},
   "outputs": [],
   "source": [
    "#### Defining a function so that we get percentage of defaulters for that particular column. #####\n",
    "# Function_name : value_wise_defaulter_percentage\n",
    "# Usage : Returns % of defaulters for every unique value of a column(Categorical)\n",
    "# Arguments : dataframe, column\n",
    "# Returns : a dataframe containing unique values of a caterory and % of defaulters\n",
    "\n",
    "def value_wise_defaulter_percentage(df, col):\n",
    "    new_df = pd.DataFrame(columns=['Value', 'Percentage of Defaulter'])\n",
    "    \n",
    "    for value in df[col].unique():\n",
    "        default_cnt = df[(df[col] == value) & (df.TARGET == 1)].shape[0]\n",
    "        total_cnt = df[df[col] == value].shape[0]\n",
    "        new_df = new_df.append({'Value' : value , 'Percentage of Defaulter' : (default_cnt*100/total_cnt)}, ignore_index=True)\n",
    "    return new_df.sort_values(by='Percentage of Defaulter', ascending=False)"
   ]
  },
  {
   "cell_type": "code",
   "execution_count": null,
   "id": "c6c7c655",
   "metadata": {},
   "outputs": [],
   "source": [
    "value_wise_defaulter_percentage(application_df, \"NAME_HOUSING_TYPE\")"
   ]
  },
  {
   "cell_type": "markdown",
   "id": "f48ba399",
   "metadata": {},
   "source": [
    "It can be seent that clients living in Rented apartment or living with parents have higher chances of being a defaulter."
   ]
  },
  {
   "cell_type": "markdown",
   "id": "7893a074",
   "metadata": {},
   "source": [
    "### Marital Status vs Target"
   ]
  },
  {
   "cell_type": "code",
   "execution_count": null,
   "id": "e547b3e9",
   "metadata": {},
   "outputs": [],
   "source": [
    "value_wise_defaulter_percentage(application_df,\"NAME_FAMILY_STATUS\")"
   ]
  },
  {
   "cell_type": "markdown",
   "id": "5bc38beb",
   "metadata": {},
   "source": [
    "We can see that applicants with Civil Marriage and Signle Staus have higher possibility of being a defaulter. "
   ]
  },
  {
   "cell_type": "markdown",
   "id": "93e6b0d3",
   "metadata": {},
   "source": [
    "### Income Type vs Target and Education Type vs Target"
   ]
  },
  {
   "cell_type": "code",
   "execution_count": null,
   "id": "11fc7cd0",
   "metadata": {},
   "outputs": [],
   "source": [
    "fig = px.histogram(application_df, x=\"NAME_INCOME_TYPE\", color=\"TARGET\",title= \"Income Type vs Target\",barmode='group')\n",
    "fig.update_xaxes(tickangle = -90)"
   ]
  },
  {
   "cell_type": "code",
   "execution_count": null,
   "id": "6c7bc617",
   "metadata": {},
   "outputs": [],
   "source": [
    "value_wise_defaulter_percentage(application_df,\"NAME_INCOME_TYPE\")"
   ]
  },
  {
   "cell_type": "markdown",
   "id": "19ba66dc",
   "metadata": {},
   "source": [
    "Observation: \n",
    "\n",
    "Applicants in their Maternity Leave and Applicants who are unemployed have very high chance that they can be defaulter.\n",
    "It should be avoided or cross checked with other parameters before sanctioning the loan.  "
   ]
  },
  {
   "cell_type": "code",
   "execution_count": null,
   "id": "537eeef2",
   "metadata": {},
   "outputs": [],
   "source": [
    "fig = px.histogram(application_df, x=\"NAME_EDUCATION_TYPE\", color=\"TARGET\",title= \"Education Type vs Target\",barmode='group')\n",
    "fig.update_xaxes(tickangle = -90)"
   ]
  },
  {
   "cell_type": "code",
   "execution_count": null,
   "id": "e41ab448",
   "metadata": {},
   "outputs": [],
   "source": [
    "value_wise_defaulter_percentage(application_df,\"NAME_EDUCATION_TYPE\")"
   ]
  },
  {
   "cell_type": "markdown",
   "id": "5b517a72",
   "metadata": {},
   "source": [
    "Observation:\n",
    "\n",
    "Applicants with not proper education background can have the chances of not repaying the loan. Verify the education background before sanctioning the loan. "
   ]
  },
  {
   "cell_type": "markdown",
   "id": "fa316c3d",
   "metadata": {},
   "source": [
    "## Gender, Age, Income vs Target"
   ]
  },
  {
   "cell_type": "code",
   "execution_count": null,
   "id": "a5347786",
   "metadata": {},
   "outputs": [],
   "source": [
    "px.histogram(application_df, x=\"CODE_GENDER\", color=\"TARGET\",title= \"Gender vs Target\",barmode='group',text_auto=True)\n"
   ]
  },
  {
   "cell_type": "code",
   "execution_count": null,
   "id": "83af1578",
   "metadata": {},
   "outputs": [],
   "source": [
    "print(application_df[\"CODE_GENDER\"].value_counts())"
   ]
  },
  {
   "cell_type": "markdown",
   "id": "c853b88d",
   "metadata": {},
   "source": [
    "We have more Female applicants than Male and also we have more Females with loan defaulter cases. "
   ]
  },
  {
   "cell_type": "markdown",
   "id": "bbcd76c7",
   "metadata": {},
   "source": [
    "#### Age\n",
    "In our dataset we have age given in number of days with. Convert it by dividing with 365 or 365.25(more accurate) and if dividing with 365 then later use the abs() function to make the age positive. "
   ]
  },
  {
   "cell_type": "code",
   "execution_count": null,
   "id": "a027b21b",
   "metadata": {},
   "outputs": [],
   "source": [
    "# application_df[\"Age\"] = application_df.DAYS_BIRTH//(-365.25) \n",
    "# application_df[[\"Age\"]].describe()\n",
    "\n",
    "#or\n",
    "\n",
    "application_df[\"Age\"] = application_df.DAYS_BIRTH//(365.25) \n",
    "application_df[\"Age\"] = abs(application_df[\"Age\"])\n",
    "application_df[\"Age\"].describe()\n"
   ]
  },
  {
   "cell_type": "markdown",
   "id": "44e48b51",
   "metadata": {},
   "source": [
    "We have got minimum age of applicant as 21 and maximum age of applicant that has applied is 70. \n"
   ]
  },
  {
   "cell_type": "code",
   "execution_count": null,
   "id": "caed877c",
   "metadata": {},
   "outputs": [],
   "source": [
    "fig = plt.figure(figsize=(12,6))\n",
    "\n",
    "ax1 = fig.add_subplot(1, 2, 1, title=\"Non-defaulter\")\n",
    "ax2 = fig.add_subplot(1, 2, 2, title=\"Defaulter\")\n",
    "\n",
    "sns.kdeplot(application_df[application_df[\"TARGET\"] == 0]['Age'], ax=ax1)\n",
    "sns.kdeplot(application_df[application_df[\"TARGET\"] == 1]['Age'], ax=ax2)\n",
    "\n",
    "plt.show()"
   ]
  },
  {
   "cell_type": "markdown",
   "id": "2289b99d",
   "metadata": {},
   "source": [
    "Applicants in their 30's have highest cases of default and as the age goes 40 above then the default case has seen a decrease. "
   ]
  },
  {
   "cell_type": "markdown",
   "id": "ee7a959e",
   "metadata": {},
   "source": [
    "#### Income and Annuity"
   ]
  },
  {
   "cell_type": "code",
   "execution_count": null,
   "id": "a71e0bf1",
   "metadata": {},
   "outputs": [],
   "source": [
    "plt.figure(figsize=(10,2))\n",
    "sns.boxplot(application_df['AMT_INCOME_TOTAL'])\n",
    "plt.show()"
   ]
  },
  {
   "cell_type": "code",
   "execution_count": null,
   "id": "daa16e8a",
   "metadata": {},
   "outputs": [],
   "source": [
    "plt.figure(figsize=(10,2))\n",
    "sns.boxplot(application_df['AMT_ANNUITY'])\n",
    "plt.show()"
   ]
  },
  {
   "cell_type": "markdown",
   "id": "d22ffa76",
   "metadata": {},
   "source": [
    "In both box plots we can see that their are outliers, These outliers can be valid too but again this will impact the other records\n",
    "Lets remove these outliers and then plot a graph. "
   ]
  },
  {
   "cell_type": "code",
   "execution_count": null,
   "id": "9d1c53ca",
   "metadata": {},
   "outputs": [],
   "source": [
    "application_df = application_df[application_df['AMT_ANNUITY'] < np.nanpercentile(application_df['AMT_ANNUITY'], 99)]\n",
    "application_df = application_df[application_df['AMT_INCOME_TOTAL'] < np.nanpercentile(application_df['AMT_INCOME_TOTAL'], 99)]\n"
   ]
  },
  {
   "cell_type": "code",
   "execution_count": null,
   "id": "5f7a98a9",
   "metadata": {},
   "outputs": [],
   "source": [
    "fig = plt.figure(figsize=(12,6))\n",
    "\n",
    "ax1 = fig.add_subplot(1, 2, 1, title=\"Non-defaulter\")\n",
    "ax2 = fig.add_subplot(1, 2, 2, title=\"Defaulter\")\n",
    "\n",
    "sns.kdeplot(application_df[application_df[\"TARGET\"] == 0]['AMT_INCOME_TOTAL'], ax=ax1)\n",
    "sns.kdeplot(application_df[application_df[\"TARGET\"] == 1]['AMT_INCOME_TOTAL'], ax=ax2)\n",
    "\n",
    "plt.show()"
   ]
  },
  {
   "cell_type": "code",
   "execution_count": null,
   "id": "0c579256",
   "metadata": {},
   "outputs": [],
   "source": [
    "fig = plt.figure(figsize=(12,6))\n",
    "\n",
    "ax1 = fig.add_subplot(1, 2, 1, title=\"Non-defaulter\")\n",
    "ax2 = fig.add_subplot(1, 2, 2, title=\"Defaulter\")\n",
    "\n",
    "sns.kdeplot(application_df[application_df[\"TARGET\"] == 0]['AMT_ANNUITY'], ax=ax1)\n",
    "sns.kdeplot(application_df[application_df[\"TARGET\"] == 1]['AMT_ANNUITY'], ax=ax2)\n",
    "\n",
    "plt.show()"
   ]
  },
  {
   "cell_type": "markdown",
   "id": "a6747c06",
   "metadata": {},
   "source": [
    "Again, as we see that range between 100,000 and 150,000 as annual income have high chance of non repayment whereas the cases are less as annual income increases.\n",
    "\n",
    "Amount Annuity(Monthy Installments). We see no differnece in the distribution for non defaulters and defaulters. "
   ]
  },
  {
   "cell_type": "markdown",
   "id": "e3fdabfa",
   "metadata": {},
   "source": [
    "#### Top Features with high correlation for Defaulter value"
   ]
  },
  {
   "cell_type": "code",
   "execution_count": null,
   "id": "fc9e96f1",
   "metadata": {},
   "outputs": [],
   "source": [
    "default = application_df[application_df[\"TARGET\"]==1]\n",
    "default.drop([\"SK_ID_CURR\"],axis=1)"
   ]
  },
  {
   "cell_type": "code",
   "execution_count": null,
   "id": "9f183662",
   "metadata": {},
   "outputs": [],
   "source": [
    "defaulter_corr = default.corr()\n",
    "round(defaulter_corr, 2)\n",
    "\n",
    "corr_list = defaulter_corr.unstack()\n"
   ]
  },
  {
   "cell_type": "code",
   "execution_count": null,
   "id": "1de65aed",
   "metadata": {},
   "outputs": [],
   "source": [
    "# Listing the correlations in pair sorted in descending order\n",
    "corr_list.sort_values(ascending=False).drop_duplicates().head(11)"
   ]
  },
  {
   "cell_type": "code",
   "execution_count": null,
   "id": "e1adc9ec",
   "metadata": {},
   "outputs": [],
   "source": []
  }
 ],
 "metadata": {
  "kernelspec": {
   "display_name": "Python 3",
   "language": "python",
   "name": "python3"
  },
  "language_info": {
   "codemirror_mode": {
    "name": "ipython",
    "version": 3
   },
   "file_extension": ".py",
   "mimetype": "text/x-python",
   "name": "python",
   "nbconvert_exporter": "python",
   "pygments_lexer": "ipython3",
   "version": "3.8.8"
  }
 },
 "nbformat": 4,
 "nbformat_minor": 5
}
